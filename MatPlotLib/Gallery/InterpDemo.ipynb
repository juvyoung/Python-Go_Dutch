{
 "cells": [
  {
   "cell_type": "markdown",
   "metadata": {},
   "source": [
    "## Lines, bars and markers\n",
    "\n",
    "***\n",
    "> [Interp Demo][1]\n",
    "\n",
    "> numpy [interp()][2] function  \n",
    "> **One-dimensional linear interpolation**\n",
    "> **numpy.interp(x, xp, fp, left = None, right = None, period = None )**  \n",
    "\n",
    "> np.interp(***x_interp***, x,y ) yields an interpolation of the function ***y_interp*** = np.interp(***x_interp***) \n",
    ">  + x: array like , The x-coordinates of the interpolated values \n",
    ">  + xp: float    ,  x data points. !must be increasing\n",
    ">  + fp: float or complex, y data points. !same length as xp\n",
    "\n",
    "***Comparison: scipy.interpolate()***\n",
    "\n",
    "[1]:https://matplotlib.org/gallery/lines_bars_and_markers/interp_demo.html#sphx-glr-gallery-lines-bars-and-markers-interp-demo-py \n",
    "[2]:https://docs.scipy.org/doc/numpy/reference/generated/numpy.interp.html#numpy.interp "
   ]
  },
  {
   "cell_type": "code",
   "execution_count": null,
   "metadata": {},
   "outputs": [],
   "source": [
    "# Import \n",
    "import matplotlib.pyplot as plt\n",
    "import numpy as np"
   ]
  },
  {
   "cell_type": "code",
   "execution_count": null,
   "metadata": {},
   "outputs": [],
   "source": [
    "# Example of interp() function\n",
    "\n",
    "x_p = [1,2,3,4,5]     \n",
    "f_p = [3,2,0,-1,-4]\n",
    "np.interp(2.5, x_p, f_p )"
   ]
  },
  {
   "cell_type": "code",
   "execution_count": null,
   "metadata": {},
   "outputs": [],
   "source": [
    "x1 = [0.5,1.5,1.9,2.7,3.14,4.3, 4.8, 5.2]\n",
    "y1 = np.interp(x1, x_p, f_p )\n",
    "y1"
   ]
  },
  {
   "cell_type": "code",
   "execution_count": null,
   "metadata": {},
   "outputs": [],
   "source": [
    "plt.plot(x_p, f_p, 'ro', label= 'samples')\n",
    "plt.plot( x1,  y1,  '-*', label ='interp' )\n",
    "\n",
    "plt.xlabel('x axis')\n",
    "plt.legend()\n",
    "plt.grid(True)\n",
    "plt.show()"
   ]
  },
  {
   "cell_type": "markdown",
   "metadata": {},
   "source": [
    "***\n",
    "> **Demo**"
   ]
  },
  {
   "cell_type": "code",
   "execution_count": 8,
   "metadata": {},
   "outputs": [
    {
     "data": {
      "text/plain": [
       "True"
      ]
     },
     "execution_count": 8,
     "metadata": {},
     "output_type": "execute_result"
    }
   ],
   "source": [
    "x = np.linspace(0, 2*np.pi, 20) \n",
    "y = np.sin(x)\n",
    "yp = None\n",
    "\n",
    "np.all(np.diff(x)> 0) # Check x-coordinate sequence is increasing or not"
   ]
  },
  {
   "cell_type": "markdown",
   "metadata": {},
   "source": [
    "&emsp;***memebers of x axis***"
   ]
  },
  {
   "cell_type": "code",
   "execution_count": 32,
   "metadata": {},
   "outputs": [
    {
     "name": "stdout",
     "output_type": "stream",
     "text": [
      "x0 = 0.000\n",
      "x1 = 0.331\n",
      "x2 = 0.661\n",
      "x3 = 0.992\n",
      "x4 = 1.323\n",
      "x5 = 1.653\n",
      "x6 = 1.984\n",
      "x7 = 2.315\n",
      "x8 = 2.646\n",
      "x9 = 2.976\n",
      "x10 = 3.307\n",
      "x11 = 3.638\n",
      "x12 = 3.968\n",
      "x13 = 4.299\n",
      "x14 = 4.630\n",
      "x15 = 4.960\n",
      "x16 = 5.291\n",
      "x17 = 5.622\n",
      "x18 = 5.952\n",
      "x19 = 6.283\n"
     ]
    }
   ],
   "source": [
    "for i in range (len(x)):\n",
    "    print('x%s = %0.3f' %(i,x[i]))  # multiply output"
   ]
  },
  {
   "cell_type": "markdown",
   "metadata": {},
   "source": [
    "&emsp; ***members of y axis***"
   ]
  },
  {
   "cell_type": "code",
   "execution_count": 34,
   "metadata": {},
   "outputs": [
    {
     "name": "stdout",
     "output_type": "stream",
     "text": [
      "y0 = 0.000\n",
      "y1 = 0.325\n",
      "y2 = 0.614\n",
      "y3 = 0.837\n",
      "y4 = 0.969\n",
      "y5 = 0.997\n",
      "y6 = 0.916\n",
      "y7 = 0.736\n",
      "y8 = 0.476\n",
      "y9 = 0.165\n",
      "y10 = -0.165\n",
      "y11 = -0.476\n",
      "y12 = -0.736\n",
      "y13 = -0.916\n",
      "y14 = -0.997\n",
      "y15 = -0.969\n",
      "y16 = -0.837\n",
      "y17 = -0.614\n",
      "y18 = -0.325\n",
      "y19 = -0.000\n"
     ]
    }
   ],
   "source": [
    "for i in range (len(y)):\n",
    "    print('y%s = %0.3f' %(i,y[i]) )  # end = \" ;\""
   ]
  },
  {
   "cell_type": "code",
   "execution_count": 36,
   "metadata": {},
   "outputs": [
    {
     "name": "stdout",
     "output_type": "stream",
     "text": [
      "x0 = 0.000 ; y0 = 0.000\n",
      "x1 = 0.331 ; y1 = 0.325\n",
      "x2 = 0.661 ; y2 = 0.614\n",
      "x3 = 0.992 ; y3 = 0.837\n",
      "x4 = 1.323 ; y4 = 0.969\n",
      "x5 = 1.653 ; y5 = 0.997\n",
      "x6 = 1.984 ; y6 = 0.916\n",
      "x7 = 2.315 ; y7 = 0.736\n",
      "x8 = 2.646 ; y8 = 0.476\n",
      "x9 = 2.976 ; y9 = 0.165\n",
      "x10 = 3.307 ; y10 = -0.165\n",
      "x11 = 3.638 ; y11 = -0.476\n",
      "x12 = 3.968 ; y12 = -0.736\n",
      "x13 = 4.299 ; y13 = -0.916\n",
      "x14 = 4.630 ; y14 = -0.997\n",
      "x15 = 4.960 ; y15 = -0.969\n",
      "x16 = 5.291 ; y16 = -0.837\n",
      "x17 = 5.622 ; y17 = -0.614\n",
      "x18 = 5.952 ; y18 = -0.325\n",
      "x19 = 6.283 ; y19 = -0.000\n"
     ]
    }
   ],
   "source": [
    "for i in range (len(x)):\n",
    "    print('x%s = %0.3f ; y%s = %0.3f' %(i,x[i],i,y[i]))  # multiply output"
   ]
  },
  {
   "cell_type": "code",
   "execution_count": 9,
   "metadata": {},
   "outputs": [
    {
     "data": {
      "image/png": "[encoded data removed]",
      "text/plain": [
       "<Figure size 432x288 with 1 Axes>"
      ]
     },
     "metadata": {},
     "output_type": "display_data"
    }
   ],
   "source": [
    "plt.plot( x, y, 'o', label= 'Original values')\n",
    "\n",
    "plt.xlabel(' x axis ')\n",
    "plt.ylabel(' y axis ')\n",
    "plt.grid(True)\n",
    "plt.legend()   # legend\n",
    "plt.show()"
   ]
  },
  {
   "cell_type": "code",
   "execution_count": null,
   "metadata": {},
   "outputs": [],
   "source": [
    "xi.size"
   ]
  },
  {
   "cell_type": "code",
   "execution_count": null,
   "metadata": {},
   "outputs": [],
   "source": [
    "y_interp.shape"
   ]
  },
  {
   "cell_type": "code",
   "execution_count": null,
   "metadata": {},
   "outputs": [],
   "source": [
    "plt.plot( xi,y_interp, 'r-*', label= 'interped value ')\n",
    "\n",
    "plt.legend()\n",
    "plt.show()"
   ]
  },
  {
   "cell_type": "code",
   "execution_count": null,
   "metadata": {},
   "outputs": [],
   "source": [
    "xi = np.linspace( x[0], x[-1], 10)  # 10 x_interp\n",
    "y_interp = np.interp( xi, x, y, yp )\n",
    "\n",
    "y_interp"
   ]
  },
  {
   "cell_type": "code",
   "execution_count": null,
   "metadata": {},
   "outputs": [],
   "source": [
    "fig, ax = plt.subplots()\n",
    "ax.plot( x, y, 'o', xi, y_interp, '-*')\n",
    "\n",
    "plt.title('interp function')\n",
    "plt.xlabel('x axis ')\n",
    "plt.ylabel('y axis ')\n",
    "plt.grid(1)\n",
    "plt.show()"
   ]
  },
  {
   "cell_type": "markdown",
   "metadata": {},
   "source": [
    "***\n",
    "## Scipy interpolate"
   ]
  },
  {
   "cell_type": "code",
   "execution_count": null,
   "metadata": {},
   "outputs": [],
   "source": [
    "import scipy.interpolate as sc_itp"
   ]
  },
  {
   "cell_type": "code",
   "execution_count": null,
   "metadata": {},
   "outputs": [],
   "source": []
  }
 ],
 "metadata": {
  "kernelspec": {
   "display_name": "Python 3",
   "language": "python",
   "name": "python3"
  },
  "language_info": {
   "codemirror_mode": {
    "name": "ipython",
    "version": 3
   },
   "file_extension": ".py",
   "mimetype": "text/x-python",
   "name": "python",
   "nbconvert_exporter": "python",
   "pygments_lexer": "ipython3",
   "version": "3.6.3"
  }
 },
 "nbformat": 4,
 "nbformat_minor": 2
}
