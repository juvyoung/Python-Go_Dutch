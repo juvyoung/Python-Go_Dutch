{
 "cells": [
  {
   "cell_type": "markdown",
   "metadata": {},
   "source": [
    "**This gallery contains examples of the many things you can do with Matplotlib. Click on any image to see the full image and source code.**\n",
    "\n",
    "[Gallery][1]\n",
    "[1]:https://matplotlib.org/gallery/index.html"
   ]
  },
  {
   "cell_type": "markdown",
   "metadata": {},
   "source": [
    "##Table of Contents\n",
    "* [ Lines, bars and markers ](#Lines,-bars-and-markers)\n",
    "    * [Interp() function](#Interp-function)\n",
    "    \n",
    "`* [Markdown style](#Markdown)`"
   ]
  },
  {
   "cell_type": "markdown",
   "metadata": {},
   "source": [
    "***\n",
    "## Lines, bars and markers\n",
    "\n",
    "> ### Interp function  \n",
    "> &emsp;&emsp;**related function:**\n",
    "          *  Interp()\n",
    "\n",
    "> [interp Demo][1]  \n",
    "> Project address [link][2]\n",
    "\n",
    "<img src =\"https://matplotlib.org/_images/interp_demo.png\" alt = \"Interp-image\" width= \"400\", height = \"300\", align =\"left\">\n",
    "\n",
    "\n",
    "\n",
    "[1]: https://matplotlib.org/gallery/lines_bars_and_markers/interp_demo.html#sphx-glr-gallery-lines-bars-and-markers-interp-demo-py \"website\"\n",
    "[2]: http://localhost:8888/notebooks/Matplotlib/Gallery/InterpDemo.ipynb#Scipy-interpolate \"coding on laptop\""
   ]
  },
  {
   "cell_type": "markdown",
   "metadata": {},
   "source": [
    "> ### Simple Plot\n",
    "> &emsp;&emsp;**related function:** \n",
    "          * plt.figure()  \n",
    "          * fig.add_subplot()   \n",
    "\n",
    "> [Simple Plot][1]  \n",
    "> Project address [link][2]\n",
    "\n",
    "<img src =\"https://matplotlib.org/mpl_examples/pylab_examples/simple_plot.hires.png\" alt = \"SimplePlot\" width= \"400\", height = \"300\", align =\"left\">\n",
    "\n",
    "\n",
    "[1]:https://matplotlib.org/gallery/lines_bars_and_markers/simple_plot.html#sphx-glr-gallery-lines-bars-and-markers-simple-plot-py \"website\"\n",
    "[2]:http://localhost:8888/notebooks/Matplotlib/Gallery/SimplePlot.ipynb \"Coding on laptop\""
   ]
  },
  {
   "cell_type": "code",
   "execution_count": null,
   "metadata": {},
   "outputs": [],
   "source": []
  }
 ],
 "metadata": {
  "kernelspec": {
   "display_name": "Python 3",
   "language": "python",
   "name": "python3"
  },
  "language_info": {
   "codemirror_mode": {
    "name": "ipython",
    "version": 3
   },
   "file_extension": ".py",
   "mimetype": "text/x-python",
   "name": "python",
   "nbconvert_exporter": "python",
   "pygments_lexer": "ipython3",
   "version": "3.6.3"
  }
 },
 "nbformat": 4,
 "nbformat_minor": 2
}
