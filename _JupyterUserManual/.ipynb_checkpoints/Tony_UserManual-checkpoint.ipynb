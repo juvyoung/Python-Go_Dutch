{
 "cells": [
  {
   "cell_type": "markdown",
   "metadata": {},
   "source": [
    "## Jupyter Notebook Users Manual\n",
    "\n",
    "**Base on [Jupyter at Bryn Mawr Colleage][1], add up some practical tips from internet**\n",
    "\n",
    "\n",
    "[1]: https://jupyter.brynmawr.edu/services/public/dblank/Jupyter%20Notebook%20Users%20Manual.ipynb"
   ]
  },
  {
   "cell_type": "markdown",
   "metadata": {},
   "source": [
    "## Image\n",
    "***\n",
    "> **HTML**\n",
    "\n",
    ">  img src=\"https://www.safra.sg/~/media/Images/Featured%20Reads%202/Christmas-Food/christmas_food_6.ashx\" width = \"50%\", height = \"50%\" "
   ]
  },
  {
   "cell_type": "markdown",
   "metadata": {},
   "source": [
    "<img src=\"https://www.safra.sg/~/media/Images/Featured%20Reads%202/Christmas-Food/christmas_food_6.ashx\" width = \"50%\">"
   ]
  },
  {
   "cell_type": "markdown",
   "metadata": {},
   "source": [
    "---\n",
    "> **Add Caption**"
   ]
  },
  {
   "cell_type": "markdown",
   "metadata": {},
   "source": [
    "<center>\n",
    "<img src=\"https://www.safra.sg/~/media/Images/Featured%20Reads%202/Christmas-Food/christmas_food_6.ashx\" width = \"50%\">   \n",
    "Figure 1\n",
    "</center>"
   ]
  },
  {
   "cell_type": "markdown",
   "metadata": {},
   "source": [
    "<center>\n",
    "<img src=\"https://www.safra.sg/~/media/Images/Featured%20Reads%202/Christmas-Food/christmas_food_6.ashx\" width = \"50%\">\n",
    "$ $\n",
    "Figure 1\n",
    "</center>"
   ]
  },
  {
   "cell_type": "markdown",
   "metadata": {},
   "source": []
  }
 ],
 "metadata": {
  "kernelspec": {
   "display_name": "Python 3",
   "language": "python",
   "name": "python3"
  },
  "language_info": {
   "codemirror_mode": {
    "name": "ipython",
    "version": 3
   },
   "file_extension": ".py",
   "mimetype": "text/x-python",
   "name": "python",
   "nbconvert_exporter": "python",
   "pygments_lexer": "ipython3",
   "version": "3.6.3"
  }
 },
 "nbformat": 4,
 "nbformat_minor": 2
}
