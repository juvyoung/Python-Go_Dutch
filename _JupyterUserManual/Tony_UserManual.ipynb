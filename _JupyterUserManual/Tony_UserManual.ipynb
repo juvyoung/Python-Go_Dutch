{
 "cells": [
  {
   "cell_type": "markdown",
   "metadata": {},
   "source": [
    "## Jupyter Notebook Users Manual\n",
    "\n",
    "**Base on [Jupyter at Bryn Mawr Colleage][1], add up some practical tips from internet**\n",
    "  \n",
    "&emsp;&emsp;***How you play around with Markdown?***  \n",
    "&emsp;&emsp;***HTML tips***\n",
    "\n",
    "[1]: https://jupyter.brynmawr.edu/services/public/dblank/Jupyter%20Notebook%20Users%20Manual.ipynb"
   ]
  },
  {
   "cell_type": "markdown",
   "metadata": {},
   "source": [
    "###Table of Contents\n",
    "* [1.Image](#1.-Image)\n",
    "    * [HTML style](#HTML) \n",
    "    * [Markdown style](#Markdown)\n",
    "    "
   ]
  },
  {
   "cell_type": "markdown",
   "metadata": {},
   "source": [
    "## 1. Image\n",
    "***\n",
    "> **HTML**\n",
    "> -----\n",
    "\n",
    "> `<img src=\"https://www.safra.sg/~/media/Images/Featured%20Reads%202/Christmas-Food/christmas_food_6.ashx\" width = \"50%\", \n",
    "height = \"50%\">` "
   ]
  },
  {
   "cell_type": "markdown",
   "metadata": {},
   "source": [
    "<img src=\"https://www.safra.sg/~/media/Images/Featured%20Reads%202/Christmas-Food/christmas_food_6.ashx\" width = \"50%\">\n",
    "Figure 1"
   ]
  },
  {
   "cell_type": "markdown",
   "metadata": {},
   "source": [
    "---\n",
    "> ***Add Caption***  \n",
    "> **( emsp; ) == blank **  \n",
    "> &emsp;&emsp;*'Center' attribute *"
   ]
  },
  {
   "cell_type": "markdown",
   "metadata": {},
   "source": [
    "<center>\n",
    "<img src=\"https://www.safra.sg/~/media/Images/Featured%20Reads%202/Christmas-Food/christmas_food_6.ashx\" width = \"50%\" alt=\"Kiviak\">   \n",
    "Figure 2\n",
    "</center>"
   ]
  },
  {
   "cell_type": "markdown",
   "metadata": {},
   "source": [
    "---\n",
    "> ***'align' tag***"
   ]
  },
  {
   "cell_type": "markdown",
   "metadata": {},
   "source": [
    "<div align = \"center\">\n",
    "<img src=\"https://www.safra.sg/~/media/Images/Featured%20Reads%202/Christmas-Food/christmas_food_6.ashx\" width = \"50%\" Alt=\"Kiviak\">  \n",
    "Figure 3\n",
    " </div>"
   ]
  },
  {
   "cell_type": "markdown",
   "metadata": {},
   "source": [
    "***\n",
    "> **Markdown**\n",
    "> -----\n",
    ">`![Text](https://www.safra.sg/~/media/Images/Featured%20Reads%202/Christmas-Food/christmas_food_6.ashx)`\n",
    "\n",
    "\n",
    "![Kivatik](https://www.safra.sg/~/media/Images/Featured%20Reads%202/Christmas-Food/christmas_food_6.ashx)\n"
   ]
  },
  {
   "cell_type": "code",
   "execution_count": null,
   "metadata": {},
   "outputs": [],
   "source": []
  }
 ],
 "metadata": {
  "kernelspec": {
   "display_name": "Python 3",
   "language": "python",
   "name": "python3"
  },
  "language_info": {
   "codemirror_mode": {
    "name": "ipython",
    "version": 3
   },
   "file_extension": ".py",
   "mimetype": "text/x-python",
   "name": "python",
   "nbconvert_exporter": "python",
   "pygments_lexer": "ipython3",
   "version": "3.6.3"
  }
 },
 "nbformat": 4,
 "nbformat_minor": 2
}
